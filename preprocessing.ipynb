{
 "cells": [
  {
   "cell_type": "code",
   "execution_count": 1,
   "metadata": {},
   "outputs": [],
   "source": [
    "from utils import reddit\n",
    "from utils.azure import authenticate_client\n",
    "from datetime import datetime\n",
    "import time\n"
   ]
  },
  {
   "cell_type": "code",
   "execution_count": 2,
   "metadata": {},
   "outputs": [],
   "source": [
    "comments = reddit.get_reddit_comments(\"https://old.reddit.com/r/soccer/comments/t820zv/match_thread_manchester_city_vs_manchester_united/\")"
   ]
  },
  {
   "cell_type": "code",
   "execution_count": 3,
   "metadata": {},
   "outputs": [],
   "source": [
    "match_start = time.mktime(datetime(2022,3,6,16,30).timetuple())\n",
    "match_end = time.mktime(datetime(2022,3,6,18,24).timetuple())\n",
    "\n",
    "#create time stamps to bucket comments into 5 minute chunks\n",
    "time_buckets = (list(range(int(match_start), int(match_end), 5*60)))"
   ]
  },
  {
   "cell_type": "markdown",
   "metadata": {},
   "source": [
    "can see some negative sentiment towards martin tyler here - lets see if this is detected by the language model"
   ]
  },
  {
   "cell_type": "code",
   "execution_count": 4,
   "metadata": {},
   "outputs": [
    {
     "data": {
      "text/plain": [
       "[(1646584222.0,\n",
       "  'At least City fans didn’t start singing their owner’s name there.'),\n",
       " (1646584270.0, \"Martin Tyler sounds like he's dying on the mic\"),\n",
       " (1646584272.0, 'Man flu on commentary'),\n",
       " (1646584311.0, 'Martin Tyler man. The worlds best cure for insomnia'),\n",
       " (1646584364.0,\n",
       "  'Is McFred an official term now? Why am I hearing it on commentary lol'),\n",
       " (1646584433.0,\n",
       "  'My friend is going home to Ukraine to fight. Makes these shows of solidarity hit home a lot more.'),\n",
       " (1646584491.0,\n",
       "  'The weird double affect on the advertising hoardings is confusing the hell out of me.')]"
      ]
     },
     "execution_count": 4,
     "metadata": {},
     "output_type": "execute_result"
    }
   ],
   "source": [
    "first_5_min = [comment for comment in comments if time_buckets[0]< comment[0] < time_buckets[1]]\n",
    "first_5_min.sort(key= lambda x:x[0])\n",
    "first_5_min\n"
   ]
  },
  {
   "cell_type": "code",
   "execution_count": 59,
   "metadata": {},
   "outputs": [],
   "source": [
    "all_comments = [comment[1] for comment in first_5_min]\n",
    "\n",
    "all_comments_str = \". \".join(all_comments)"
   ]
  },
  {
   "cell_type": "code",
   "execution_count": 61,
   "metadata": {},
   "outputs": [],
   "source": [
    "client = authenticate_client()\n",
    "sentiments = client.analyze_sentiment([all_comments_str], show_opinion_mining=True)"
   ]
  },
  {
   "cell_type": "markdown",
   "metadata": {},
   "source": [
    "overall sentiment"
   ]
  },
  {
   "cell_type": "code",
   "execution_count": 62,
   "metadata": {},
   "outputs": [
    {
     "data": {
      "text/plain": [
       "SentimentConfidenceScores(positive=0.29, neutral=0.16, negative=0.56)"
      ]
     },
     "execution_count": 62,
     "metadata": {},
     "output_type": "execute_result"
    }
   ],
   "source": [
    "sentiments[0].confidence_scores"
   ]
  },
  {
   "cell_type": "code",
   "execution_count": 63,
   "metadata": {},
   "outputs": [
    {
     "data": {
      "text/plain": [
       "SentimentConfidenceScores(positive=0.03, neutral=0.44, negative=0.53)"
      ]
     },
     "execution_count": 63,
     "metadata": {},
     "output_type": "execute_result"
    }
   ],
   "source": [
    "sentiments[0].sentences[0].confidence_scores"
   ]
  },
  {
   "cell_type": "code",
   "execution_count": 64,
   "metadata": {},
   "outputs": [],
   "source": [
    "opinion_sentences= [sentence for sentence in sentiments[0].sentences if sentence.mined_opinions]"
   ]
  },
  {
   "cell_type": "code",
   "execution_count": 51,
   "metadata": {},
   "outputs": [
    {
     "name": "stdout",
     "output_type": "stream",
     "text": [
      "Text:The worlds best cure for insomnia. \n",
      " Opinion: best cure \n"
     ]
    }
   ],
   "source": [
    "sentence = opinion_sentences[0]\n",
    "print(f\"Text:{sentence.text}\\n Opinion: {sentence.mined_opinions[0].assessments[0].text} {sentence.mined_opinions[0].target.text} \")"
   ]
  },
  {
   "cell_type": "code",
   "execution_count": null,
   "metadata": {},
   "outputs": [],
   "source": []
  }
 ],
 "metadata": {
  "interpreter": {
   "hash": "6f2693e8e6c9636963f60fbb08a9389efddaf9e2e17a1364bacab36669cfc4ac"
  },
  "kernelspec": {
   "display_name": "Python 3.8.10 ('venv': venv)",
   "language": "python",
   "name": "python3"
  },
  "language_info": {
   "codemirror_mode": {
    "name": "ipython",
    "version": 3
   },
   "file_extension": ".py",
   "mimetype": "text/x-python",
   "name": "python",
   "nbconvert_exporter": "python",
   "pygments_lexer": "ipython3",
   "version": "3.8.10"
  },
  "orig_nbformat": 4
 },
 "nbformat": 4,
 "nbformat_minor": 2
}
